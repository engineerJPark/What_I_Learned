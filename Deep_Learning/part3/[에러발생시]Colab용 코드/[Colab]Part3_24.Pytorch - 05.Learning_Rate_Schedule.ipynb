{
  "nbformat": 4,
  "nbformat_minor": 0,
  "metadata": {
    "kernelspec": {
      "display_name": "Python 3",
      "language": "python",
      "name": "python3"
    },
    "language_info": {
      "codemirror_mode": {
        "name": "ipython",
        "version": 3
      },
      "file_extension": ".py",
      "mimetype": "text/x-python",
      "name": "python",
      "nbconvert_exporter": "python",
      "pygments_lexer": "ipython3",
      "version": "3.7.3"
    },
    "colab": {
      "name": "[검수완료]24. Learning Rate Schedule.ipynb",
      "provenance": []
    }
  },
  "cells": [
    {
      "cell_type": "code",
      "metadata": {
        "id": "SHLL8dMYBkfU",
        "colab_type": "code",
        "colab": {}
      },
      "source": [
        "import os\n",
        "from glob import glob\n",
        "\n",
        "import torch\n",
        "import torch.nn as nn\n",
        "import torch.nn.functional as F\n",
        "import torch.optim as optim\n",
        "from torchvision import datasets, transforms\n",
        "\n",
        "from torch.utils.data import Dataset, DataLoader\n",
        "\n",
        "import numpy as np\n",
        "from PIL import Image"
      ],
      "execution_count": 4,
      "outputs": []
    },
    {
      "cell_type": "code",
      "metadata": {
        "id": "AaM-vUW_Bkfb",
        "colab_type": "code",
        "colab": {}
      },
      "source": [
        "seed = 1\n",
        "\n",
        "lr = 0.001\n",
        "momentum = 0.5\n",
        "\n",
        "batch_size = 64\n",
        "test_batch_size = 64\n",
        "\n",
        "epochs = 10\n",
        "no_cuda = False\n",
        "log_interval = 100"
      ],
      "execution_count": 5,
      "outputs": []
    },
    {
      "cell_type": "markdown",
      "metadata": {
        "id": "eRiTjlh_Bkfg",
        "colab_type": "text"
      },
      "source": [
        "# Model"
      ]
    },
    {
      "cell_type": "code",
      "metadata": {
        "id": "f_dJI_ZABkfh",
        "colab_type": "code",
        "colab": {}
      },
      "source": [
        "class Net(nn.Module):\n",
        "    def __init__(self):\n",
        "        super(Net, self).__init__()\n",
        "        self.conv1 = nn.Conv2d(1, 20, 5, 1)\n",
        "        self.conv2 = nn.Conv2d(20, 50, 5, 1)\n",
        "        self.fc1 = nn.Linear(4*4*50, 500)\n",
        "        self.fc2 = nn.Linear(500, 10)\n",
        "\n",
        "    def forward(self, x):\n",
        "        x = F.relu(self.conv1(x))\n",
        "        x = F.max_pool2d(x, 2, 2)\n",
        "        x = F.relu(self.conv2(x))\n",
        "        x = F.max_pool2d(x, 2, 2)\n",
        "        x = x.view(-1, 4*4*50)\n",
        "        x = F.relu(self.fc1(x))\n",
        "        x = self.fc2(x)\n",
        "        return F.log_softmax(x, dim=1)"
      ],
      "execution_count": 6,
      "outputs": []
    },
    {
      "cell_type": "markdown",
      "metadata": {
        "id": "JxzJtFZdBkfl",
        "colab_type": "text"
      },
      "source": [
        "# Preprocess"
      ]
    },
    {
      "cell_type": "code",
      "metadata": {
        "id": "SG5LkpBc119K",
        "colab_type": "code",
        "colab": {
          "base_uri": "https://localhost:8080/",
          "height": 122
        },
        "outputId": "5f80eeef-e1f6-4497-d3ad-b338f2511fd7"
      },
      "source": [
        "from google.colab import drive\n",
        "drive.mount('/content/drive')"
      ],
      "execution_count": 7,
      "outputs": [
        {
          "output_type": "stream",
          "text": [
            "Go to this URL in a browser: https://accounts.google.com/o/oauth2/auth?client_id=947318989803-6bn6qk8qdgf4n4g3pfee6491hc0brc4i.apps.googleusercontent.com&redirect_uri=urn%3aietf%3awg%3aoauth%3a2.0%3aoob&scope=email%20https%3a%2f%2fwww.googleapis.com%2fauth%2fdocs.test%20https%3a%2f%2fwww.googleapis.com%2fauth%2fdrive%20https%3a%2f%2fwww.googleapis.com%2fauth%2fdrive.photos.readonly%20https%3a%2f%2fwww.googleapis.com%2fauth%2fpeopleapi.readonly&response_type=code\n",
            "\n",
            "Enter your authorization code:\n",
            "··········\n",
            "Mounted at /content/drive\n"
          ],
          "name": "stdout"
        }
      ]
    },
    {
      "cell_type": "code",
      "metadata": {
        "id": "Heo9ff5z115C",
        "colab_type": "code",
        "colab": {}
      },
      "source": [
        "# 압축 풀기\n",
        "!unzip -qq /content/drive/\"My Drive\"/\"[AOP:딥러닝 인공지능]\"/TEST/\"1. [Tensorflow 2.0 과 Pytorch]\"/\"3. 이미지 분석으로 배우는 tensorflow 2.0과 Pytorch\"/\"3. dataset\"/mnist_png.zip\n"
      ],
      "execution_count": 8,
      "outputs": []
    },
    {
      "cell_type": "code",
      "metadata": {
        "id": "szoD_A1n1vr1",
        "colab_type": "code",
        "colab": {
          "base_uri": "https://localhost:8080/",
          "height": 34
        },
        "outputId": "c6b41f32-a619-4dce-8ca8-4409b694a7b3"
      },
      "source": [
        "train_paths = glob('/content/mnist_png/training/*/*.png')[:1000]\n",
        "test_paths = glob('/content/mnist_png/testing/*/*.png')[:1000]\n",
        "\n",
        "len(train_paths), len(test_paths)"
      ],
      "execution_count": 9,
      "outputs": [
        {
          "output_type": "execute_result",
          "data": {
            "text/plain": [
              "(1000, 1000)"
            ]
          },
          "metadata": {
            "tags": []
          },
          "execution_count": 9
        }
      ]
    },
    {
      "cell_type": "markdown",
      "metadata": {
        "id": "XEXzp7Z0Bkfq",
        "colab_type": "text"
      },
      "source": [
        "참고: https://pytorch.org/tutorials/beginner/data_loading_tutorial.html#dataset-class"
      ]
    },
    {
      "cell_type": "code",
      "metadata": {
        "id": "bUNfoPxTBkfq",
        "colab_type": "code",
        "colab": {}
      },
      "source": [
        "class Dataset(Dataset):\n",
        "    def __init__(self, data_paths, transform=None):\n",
        "\n",
        "        self.data_paths = data_paths\n",
        "        self.transform = transform\n",
        "\n",
        "    def __len__(self):\n",
        "        return len(self.data_paths)\n",
        "\n",
        "    def __getitem__(self, idx):\n",
        "        path = self.data_paths[idx]\n",
        "        image = Image.open(path).convert(\"L\")\n",
        "        label = int(path.split('/')[-2]) # 맥의 경우 경로\n",
        "        #label = int(path.split('\\\\')[-2]) # 윈도\n",
        "        \n",
        "        if self.transform:\n",
        "            image = self.transform(image)\n",
        "\n",
        "        return image, label"
      ],
      "execution_count": 13,
      "outputs": []
    },
    {
      "cell_type": "code",
      "metadata": {
        "id": "4kbmVFE5Bkfs",
        "colab_type": "code",
        "colab": {}
      },
      "source": [
        "torch.manual_seed(seed)\n",
        "\n",
        "use_cuda = not no_cuda and torch.cuda.is_available()\n",
        "device = torch.device(\"cuda\" if use_cuda else \"cpu\")\n",
        "\n",
        "kwargs = {'num_workers': 1, 'pin_memory': True} if use_cuda else {}\n",
        "\n",
        "train_loader = torch.utils.data.DataLoader(\n",
        "    Dataset(train_paths, \n",
        "            transforms.Compose([\n",
        "                transforms.RandomHorizontalFlip(), \n",
        "                transforms.ToTensor(), \n",
        "                transforms.Normalize(\n",
        "                    mean=[0.406], \n",
        "                    std=[0.225])])\n",
        "           ),\n",
        "    batch_size=batch_size, \n",
        "    shuffle=True\n",
        ")\n",
        "\n",
        "test_loader = torch.utils.data.DataLoader(\n",
        "    Dataset(test_paths,\n",
        "           transforms.Compose([\n",
        "               transforms.ToTensor(), \n",
        "               transforms.Normalize(\n",
        "                   mean=[0.406], \n",
        "                   std=[0.225])])\n",
        "           ),\n",
        "    batch_size=batch_size, \n",
        "    shuffle=False\n",
        ")"
      ],
      "execution_count": 14,
      "outputs": []
    },
    {
      "cell_type": "code",
      "metadata": {
        "id": "oILjyCyQBkfu",
        "colab_type": "code",
        "colab": {
          "base_uri": "https://localhost:8080/",
          "height": 34
        },
        "outputId": "f96e60e8-86b8-4cd1-ae4f-76679d659663"
      },
      "source": [
        "for i, data in enumerate(train_loader):\n",
        "    if i == 0:\n",
        "        print(data[0].shape, data[1].shape)\n",
        "        break"
      ],
      "execution_count": 15,
      "outputs": [
        {
          "output_type": "stream",
          "text": [
            "torch.Size([64, 1, 28, 28]) torch.Size([64])\n"
          ],
          "name": "stdout"
        }
      ]
    },
    {
      "cell_type": "markdown",
      "metadata": {
        "id": "aRXGVBHgBkfw",
        "colab_type": "text"
      },
      "source": [
        "# Optimization"
      ]
    },
    {
      "cell_type": "code",
      "metadata": {
        "id": "eAddJNXbBkfx",
        "colab_type": "code",
        "colab": {}
      },
      "source": [
        "model = Net().to(device)\n",
        "optimizer = optim.SGD(model.parameters(), lr=lr, momentum=momentum)"
      ],
      "execution_count": 16,
      "outputs": []
    },
    {
      "cell_type": "markdown",
      "metadata": {
        "id": "TZFP_mZhBkfz",
        "colab_type": "text"
      },
      "source": [
        "# Learning Rate Scheduler"
      ]
    },
    {
      "cell_type": "code",
      "metadata": {
        "id": "hLdGLyhBBkfz",
        "colab_type": "code",
        "colab": {}
      },
      "source": [
        "from torch.optim.lr_scheduler import ReduceLROnPlateau"
      ],
      "execution_count": 17,
      "outputs": []
    },
    {
      "cell_type": "code",
      "metadata": {
        "id": "w-YzaV7IBkf1",
        "colab_type": "code",
        "colab": {}
      },
      "source": [
        "scheduler = ReduceLROnPlateau(optimizer, mode='max', factor=0.1, patience=0, verbose=True) "
      ],
      "execution_count": 18,
      "outputs": []
    },
    {
      "cell_type": "markdown",
      "metadata": {
        "id": "QSLu8deEBkf2",
        "colab_type": "text"
      },
      "source": [
        "# Training"
      ]
    },
    {
      "cell_type": "code",
      "metadata": {
        "id": "U3UILszNBkf3",
        "colab_type": "code",
        "colab": {
          "base_uri": "https://localhost:8080/",
          "height": 836
        },
        "outputId": "b716bc4f-3159-4b40-ec7d-551e1a5aa60f"
      },
      "source": [
        "for epoch in range(1, epochs + 1):\n",
        "    # Train Mode\n",
        "    model.train()\n",
        "\n",
        "    for batch_idx, (data, target) in enumerate(train_loader):\n",
        "        data, target = data.to(device), target.to(device)\n",
        "        optimizer.zero_grad()\n",
        "        output = model(data)\n",
        "        loss = F.nll_loss(output, target)  # https://pytorch.org/docs/stable/nn.html#nll-loss\n",
        "        loss.backward()\n",
        "        optimizer.step()\n",
        "\n",
        "        if batch_idx % log_interval == 0:\n",
        "            print('Train Epoch: {} [{}/{} ({:.0f}%)]\\tLoss: {:.6f}'.format(\n",
        "                epoch, batch_idx * len(data), len(train_loader.dataset),\n",
        "                100. * batch_idx / len(train_loader), loss.item()))\n",
        "            \n",
        "    \n",
        "    \n",
        "    # Test mode\n",
        "    model.eval()\n",
        "    test_loss = 0\n",
        "    correct = 0\n",
        "    with torch.no_grad():\n",
        "        for data, target in test_loader:\n",
        "            data, target = data.to(device), target.to(device)\n",
        "            output = model(data)\n",
        "            test_loss += F.nll_loss(output, target, reduction='sum').item() # sum up batch loss\n",
        "            pred = output.argmax(dim=1, keepdim=True) # get the index of the max log-probability\n",
        "            correct += pred.eq(target.view_as(pred)).sum().item()\n",
        "\n",
        "    test_loss /= len(test_loader.dataset)\n",
        "    \n",
        "    accuracy = 100. * correct / len(test_loader.dataset)\n",
        "    \n",
        "    # Learning Rate Scheduler\n",
        "    scheduler.step(accuracy, epoch)\n",
        "    \n",
        "    print('\\nTest set: Average loss: {:.4f}, Accuracy: {}/{} ({:.0f}%)\\n'.format(\n",
        "        test_loss, correct, len(test_loader.dataset),\n",
        "        accuracy))"
      ],
      "execution_count": 19,
      "outputs": [
        {
          "output_type": "stream",
          "text": [
            "Train Epoch: 1 [0/1000 (0%)]\tLoss: 2.445343\n"
          ],
          "name": "stdout"
        },
        {
          "output_type": "stream",
          "text": [
            "/usr/local/lib/python3.6/dist-packages/torch/optim/lr_scheduler.py:603: UserWarning: The epoch parameter in `scheduler.step()` was not necessary and is being deprecated where possible. Please use `scheduler.step()` to step the scheduler. During the deprecation, if epoch is different from None, the closed form is used instead of the new chainable form, where available. Please open an issue if you are unable to replicate your use case: https://github.com/pytorch/pytorch/issues/new/choose.\n",
            "  warnings.warn(EPOCH_DEPRECATION_WARNING, UserWarning)\n"
          ],
          "name": "stderr"
        },
        {
          "output_type": "stream",
          "text": [
            "\n",
            "Test set: Average loss: 0.8168, Accuracy: 1000/1000 (100%)\n",
            "\n",
            "Train Epoch: 2 [0/1000 (0%)]\tLoss: 0.783363\n",
            "Epoch     2: reducing learning rate of group 0 to 1.0000e-04.\n",
            "\n",
            "Test set: Average loss: 0.1059, Accuracy: 1000/1000 (100%)\n",
            "\n",
            "Train Epoch: 3 [0/1000 (0%)]\tLoss: 0.094200\n",
            "Epoch     3: reducing learning rate of group 0 to 1.0000e-05.\n",
            "\n",
            "Test set: Average loss: 0.0940, Accuracy: 1000/1000 (100%)\n",
            "\n",
            "Train Epoch: 4 [0/1000 (0%)]\tLoss: 0.084206\n",
            "Epoch     4: reducing learning rate of group 0 to 1.0000e-06.\n",
            "\n",
            "Test set: Average loss: 0.0930, Accuracy: 1000/1000 (100%)\n",
            "\n",
            "Train Epoch: 5 [0/1000 (0%)]\tLoss: 0.082626\n",
            "Epoch     5: reducing learning rate of group 0 to 1.0000e-07.\n",
            "\n",
            "Test set: Average loss: 0.0929, Accuracy: 1000/1000 (100%)\n",
            "\n",
            "Train Epoch: 6 [0/1000 (0%)]\tLoss: 0.080813\n",
            "Epoch     6: reducing learning rate of group 0 to 1.0000e-08.\n",
            "\n",
            "Test set: Average loss: 0.0929, Accuracy: 1000/1000 (100%)\n",
            "\n",
            "Train Epoch: 7 [0/1000 (0%)]\tLoss: 0.083896\n",
            "\n",
            "Test set: Average loss: 0.0929, Accuracy: 1000/1000 (100%)\n",
            "\n",
            "Train Epoch: 8 [0/1000 (0%)]\tLoss: 0.083900\n",
            "\n",
            "Test set: Average loss: 0.0929, Accuracy: 1000/1000 (100%)\n",
            "\n",
            "Train Epoch: 9 [0/1000 (0%)]\tLoss: 0.081953\n",
            "\n",
            "Test set: Average loss: 0.0929, Accuracy: 1000/1000 (100%)\n",
            "\n",
            "Train Epoch: 10 [0/1000 (0%)]\tLoss: 0.084629\n",
            "\n",
            "Test set: Average loss: 0.0929, Accuracy: 1000/1000 (100%)\n",
            "\n"
          ],
          "name": "stdout"
        }
      ]
    },
    {
      "cell_type": "code",
      "metadata": {
        "id": "PqEIV-kYCmCr",
        "colab_type": "code",
        "colab": {}
      },
      "source": [
        ""
      ],
      "execution_count": null,
      "outputs": []
    }
  ]
}