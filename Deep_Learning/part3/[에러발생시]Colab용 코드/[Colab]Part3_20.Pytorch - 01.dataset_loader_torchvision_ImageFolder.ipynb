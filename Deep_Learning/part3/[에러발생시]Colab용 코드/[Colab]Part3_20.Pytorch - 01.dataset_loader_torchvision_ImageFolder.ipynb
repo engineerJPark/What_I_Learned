{
  "nbformat": 4,
  "nbformat_minor": 0,
  "metadata": {
    "kernelspec": {
      "display_name": "Python 3",
      "language": "python",
      "name": "python3"
    },
    "language_info": {
      "codemirror_mode": {
        "name": "ipython",
        "version": 3
      },
      "file_extension": ".py",
      "mimetype": "text/x-python",
      "name": "python",
      "nbconvert_exporter": "python",
      "pygments_lexer": "ipython3",
      "version": "3.7.3"
    },
    "colab": {
      "name": "[검수완료]19. dataset loader - torchvision.ImageFolder.ipynb",
      "provenance": [],
      "toc_visible": true
    }
  },
  "cells": [
    {
      "cell_type": "markdown",
      "metadata": {
        "id": "JbJT-nuoAcSI",
        "colab_type": "text"
      },
      "source": [
        "# PyTorch"
      ]
    },
    {
      "cell_type": "code",
      "metadata": {
        "id": "a_yiPBbYAcSJ",
        "colab_type": "code",
        "colab": {}
      },
      "source": [
        "import torch\n",
        "\n",
        "import torch.nn as nn\n",
        "import torch.nn.functional as F\n",
        "import torch.optim as optim\n",
        "\n",
        "from torchvision import datasets, transforms"
      ],
      "execution_count": 1,
      "outputs": []
    },
    {
      "cell_type": "code",
      "metadata": {
        "id": "7-Ue4ls-AcSQ",
        "colab_type": "code",
        "colab": {}
      },
      "source": [
        "seed = 1\n",
        "\n",
        "lr = 0.001\n",
        "momentum = 0.5\n",
        "\n",
        "batch_size = 64\n",
        "test_batch_size = 64\n",
        "\n",
        "epochs = 5\n",
        "\n",
        "no_cuda = False\n",
        "log_interval = 100"
      ],
      "execution_count": 2,
      "outputs": []
    },
    {
      "cell_type": "markdown",
      "metadata": {
        "id": "sXM1z1rPAcSV",
        "colab_type": "text"
      },
      "source": [
        "## Model"
      ]
    },
    {
      "cell_type": "code",
      "metadata": {
        "id": "QqvaVJEDAcSV",
        "colab_type": "code",
        "colab": {}
      },
      "source": [
        "class Net(nn.Module):\n",
        "    def __init__(self):\n",
        "        super(Net, self).__init__()\n",
        "        self.conv1 = nn.Conv2d(3, 20, 5, 1)\n",
        "        self.conv2 = nn.Conv2d(20, 50, 5, 1)\n",
        "        self.fc1 = nn.Linear(4*4*50, 500)\n",
        "        self.fc2 = nn.Linear(500, 10)\n",
        "\n",
        "    def forward(self, x):\n",
        "        x = F.relu(self.conv1(x))\n",
        "        x = F.max_pool2d(x, 2, 2)\n",
        "        x = F.relu(self.conv2(x))\n",
        "        x = F.max_pool2d(x, 2, 2)\n",
        "        x = x.view(-1, 4*4*50)\n",
        "        x = F.relu(self.fc1(x))\n",
        "        x = self.fc2(x)\n",
        "        return F.log_softmax(x, dim=1)"
      ],
      "execution_count": 3,
      "outputs": []
    },
    {
      "cell_type": "markdown",
      "metadata": {
        "id": "Jqsz6y3SAcSY",
        "colab_type": "text"
      },
      "source": [
        "## Preprocess"
      ]
    },
    {
      "cell_type": "code",
      "metadata": {
        "id": "lC4WlzEGAcSZ",
        "colab_type": "code",
        "colab": {}
      },
      "source": [
        "import os"
      ],
      "execution_count": 4,
      "outputs": []
    },
    {
      "cell_type": "code",
      "metadata": {
        "id": "WU6rzJPwAmCa",
        "colab_type": "code",
        "colab": {
          "base_uri": "https://localhost:8080/",
          "height": 122
        },
        "outputId": "ea55ce5a-f23f-4a63-e04e-26686025f33f"
      },
      "source": [
        "from google.colab import drive\n",
        "drive.mount('/content/drive')"
      ],
      "execution_count": 5,
      "outputs": [
        {
          "output_type": "stream",
          "text": [
            "Go to this URL in a browser: https://accounts.google.com/o/oauth2/auth?client_id=947318989803-6bn6qk8qdgf4n4g3pfee6491hc0brc4i.apps.googleusercontent.com&redirect_uri=urn%3aietf%3awg%3aoauth%3a2.0%3aoob&scope=email%20https%3a%2f%2fwww.googleapis.com%2fauth%2fdocs.test%20https%3a%2f%2fwww.googleapis.com%2fauth%2fdrive%20https%3a%2f%2fwww.googleapis.com%2fauth%2fdrive.photos.readonly%20https%3a%2f%2fwww.googleapis.com%2fauth%2fpeopleapi.readonly&response_type=code\n",
            "\n",
            "Enter your authorization code:\n",
            "··········\n",
            "Mounted at /content/drive\n"
          ],
          "name": "stdout"
        }
      ]
    },
    {
      "cell_type": "code",
      "metadata": {
        "id": "CqZJQWHqAl-i",
        "colab_type": "code",
        "colab": {}
      },
      "source": [
        "# 압축 풀기\n",
        "!unzip -qq /content/drive/\"My Drive\"/\"[AOP:딥러닝 인공지능]\"/TEST/\"1. [Tensorflow 2.0 과 Pytorch]\"/\"3. 이미지 분석으로 배우는 tensorflow 2.0과 Pytorch\"/\"3. dataset\"/mnist_png.zip\n"
      ],
      "execution_count": 6,
      "outputs": []
    },
    {
      "cell_type": "code",
      "metadata": {
        "id": "Hkq_5W9IAl4e",
        "colab_type": "code",
        "colab": {
          "base_uri": "https://localhost:8080/",
          "height": 34
        },
        "outputId": "2add6eb8-c621-404a-b716-0496014edb21"
      },
      "source": [
        "os.listdir('/content/mnist_png/training') # 강의와 순서 다름 고려 "
      ],
      "execution_count": 7,
      "outputs": [
        {
          "output_type": "execute_result",
          "data": {
            "text/plain": [
              "['3', '8', '2', '5', '9', '1', '6', '0', '7', '4']"
            ]
          },
          "metadata": {
            "tags": []
          },
          "execution_count": 7
        }
      ]
    },
    {
      "cell_type": "code",
      "metadata": {
        "id": "eYvpEHf_DcQG",
        "colab_type": "code",
        "colab": {}
      },
      "source": [
        "train_dir = '/content/mnist_png/training'\n",
        "test_dir = '/content/mnist_png/testing'"
      ],
      "execution_count": 8,
      "outputs": []
    },
    {
      "cell_type": "markdown",
      "metadata": {
        "id": "RLbbRw_1AcSb",
        "colab_type": "text"
      },
      "source": [
        "grayscale은 안 되는 이유\n",
        "\n",
        "https://github.com/pytorch/vision/blob/master/torchvision/datasets/folder.py#L157"
      ]
    },
    {
      "cell_type": "code",
      "metadata": {
        "id": "G7zBc6GzAcSc",
        "colab_type": "code",
        "colab": {}
      },
      "source": [
        "torch.manual_seed(seed)\n",
        "\n",
        "use_cuda = not no_cuda and torch.cuda.is_available()\n",
        "device = torch.device(\"cuda\" if use_cuda else \"cpu\")\n",
        "\n"
      ],
      "execution_count": 9,
      "outputs": []
    },
    {
      "cell_type": "code",
      "metadata": {
        "id": "d-MSpPbHDpaN",
        "colab_type": "code",
        "colab": {}
      },
      "source": [
        "train_dataset = datasets.ImageFolder(root=train_dir,\n",
        "                                     transform=transforms.Compose([\n",
        "                                                                   transforms.ToTensor(),\n",
        "                                                                   transforms.Normalize((0.1307,), (0.3081,))\n",
        "                                     ]))\n",
        "test_dataset = datasets.ImageFolder(root=test_dir,\n",
        "                                    transform=transforms.Compose([\n",
        "                                                                   transforms.ToTensor(),\n",
        "                                                                   transforms.Normalize((0.1307,), (0.3081,))\n",
        "                                     ]))"
      ],
      "execution_count": 10,
      "outputs": []
    },
    {
      "cell_type": "code",
      "metadata": {
        "id": "ViYChuDEDpTd",
        "colab_type": "code",
        "colab": {}
      },
      "source": [
        "train_loader = torch.utils.data.DataLoader(train_dataset,\n",
        "                                           batch_size=batch_size,\n",
        "                                           shuffle=True)\n",
        "\n",
        "test_loader = torch.utils.data.DataLoader(test_dataset,\n",
        "                                           batch_size=batch_size,\n",
        "                                           shuffle=False)"
      ],
      "execution_count": 11,
      "outputs": []
    },
    {
      "cell_type": "markdown",
      "metadata": {
        "id": "-5kUu_FQAcSe",
        "colab_type": "text"
      },
      "source": [
        "## Optimization"
      ]
    },
    {
      "cell_type": "code",
      "metadata": {
        "id": "qT7QCsd2AcSe",
        "colab_type": "code",
        "colab": {}
      },
      "source": [
        "model = Net().to(device)\n",
        "optimizer = optim.SGD(model.parameters(), lr=lr, momentum=momentum)"
      ],
      "execution_count": 12,
      "outputs": []
    },
    {
      "cell_type": "markdown",
      "metadata": {
        "id": "g2FBbkP7AcSg",
        "colab_type": "text"
      },
      "source": [
        "## Training"
      ]
    },
    {
      "cell_type": "code",
      "metadata": {
        "id": "jzZztdDGAcSg",
        "colab_type": "code",
        "colab": {
          "base_uri": "https://localhost:8080/",
          "height": 1000
        },
        "outputId": "83ec87cd-3e3e-42e7-c14a-da40780264ec"
      },
      "source": [
        "for epoch in range(1, epochs + 1):\n",
        "    # Train Mode\n",
        "    model.train()\n",
        "\n",
        "    for batch_idx, (data, target) in enumerate(train_loader):\n",
        "        data, target = data.to(device), target.to(device)\n",
        "        optimizer.zero_grad()  # backpropagation 계산하기 전에 0으로 기울기 계산\n",
        "        output = model(data)\n",
        "        loss = F.nll_loss(output, target)  # https://pytorch.org/docs/stable/nn.html#nll-loss\n",
        "        loss.backward()\n",
        "        optimizer.step()  \n",
        "\n",
        "        if batch_idx % log_interval == 0:\n",
        "            print('Train Epoch: {} [{}/{} ({:.0f}%)]\\tLoss: {:.6f}'.format(\n",
        "                epoch, batch_idx * len(data), len(train_loader.dataset),\n",
        "                100. * batch_idx / len(train_loader), loss.item()))\n",
        "    \n",
        "    # Test mode\n",
        "    model.eval()  # batch norm이나 dropout 등을 train mode 변환\n",
        "    test_loss = 0\n",
        "    correct = 0\n",
        "    with torch.no_grad():  # autograd engine, 즉 backpropagatin이나 gradient 계산 등을 꺼서 memory usage를 줄이고 속도를 높임\n",
        "        for data, target in test_loader:\n",
        "            data, target = data.to(device), target.to(device)\n",
        "            output = model(data)\n",
        "            test_loss += F.nll_loss(output, target, reduction='sum').item() # sum up batch loss\n",
        "            pred = output.argmax(dim=1, keepdim=True) # get the index of the max log-probability\n",
        "            correct += pred.eq(target.view_as(pred)).sum().item()  # pred와 target과 같은지 확인\n",
        "\n",
        "    test_loss /= len(test_loader.dataset)\n",
        "\n",
        "    print('\\nTest set: Average loss: {:.4f}, Accuracy: {}/{} ({:.0f}%)\\n'.format(\n",
        "        test_loss, correct, len(test_loader.dataset),\n",
        "        100. * correct / len(test_loader.dataset)))"
      ],
      "execution_count": 13,
      "outputs": [
        {
          "output_type": "stream",
          "text": [
            "Train Epoch: 1 [0/60000 (0%)]\tLoss: 2.301064\n",
            "Train Epoch: 1 [6400/60000 (11%)]\tLoss: 2.243288\n",
            "Train Epoch: 1 [12800/60000 (21%)]\tLoss: 2.127933\n",
            "Train Epoch: 1 [19200/60000 (32%)]\tLoss: 1.843942\n",
            "Train Epoch: 1 [25600/60000 (43%)]\tLoss: 1.390837\n",
            "Train Epoch: 1 [32000/60000 (53%)]\tLoss: 0.886329\n",
            "Train Epoch: 1 [38400/60000 (64%)]\tLoss: 0.576860\n",
            "Train Epoch: 1 [44800/60000 (75%)]\tLoss: 0.522166\n",
            "Train Epoch: 1 [51200/60000 (85%)]\tLoss: 0.520637\n",
            "Train Epoch: 1 [57600/60000 (96%)]\tLoss: 0.529138\n",
            "\n",
            "Test set: Average loss: 0.3750, Accuracy: 8936/10000 (89%)\n",
            "\n",
            "Train Epoch: 2 [0/60000 (0%)]\tLoss: 0.437051\n",
            "Train Epoch: 2 [6400/60000 (11%)]\tLoss: 0.359801\n",
            "Train Epoch: 2 [12800/60000 (21%)]\tLoss: 0.333768\n",
            "Train Epoch: 2 [19200/60000 (32%)]\tLoss: 0.283019\n",
            "Train Epoch: 2 [25600/60000 (43%)]\tLoss: 0.399322\n",
            "Train Epoch: 2 [32000/60000 (53%)]\tLoss: 0.207625\n",
            "Train Epoch: 2 [38400/60000 (64%)]\tLoss: 0.182959\n",
            "Train Epoch: 2 [44800/60000 (75%)]\tLoss: 0.436368\n",
            "Train Epoch: 2 [51200/60000 (85%)]\tLoss: 0.249201\n",
            "Train Epoch: 2 [57600/60000 (96%)]\tLoss: 0.312505\n",
            "\n",
            "Test set: Average loss: 0.2335, Accuracy: 9322/10000 (93%)\n",
            "\n",
            "Train Epoch: 3 [0/60000 (0%)]\tLoss: 0.290051\n",
            "Train Epoch: 3 [6400/60000 (11%)]\tLoss: 0.226603\n",
            "Train Epoch: 3 [12800/60000 (21%)]\tLoss: 0.143074\n",
            "Train Epoch: 3 [19200/60000 (32%)]\tLoss: 0.183430\n",
            "Train Epoch: 3 [25600/60000 (43%)]\tLoss: 0.138780\n",
            "Train Epoch: 3 [32000/60000 (53%)]\tLoss: 0.197965\n",
            "Train Epoch: 3 [38400/60000 (64%)]\tLoss: 0.221737\n",
            "Train Epoch: 3 [44800/60000 (75%)]\tLoss: 0.206103\n",
            "Train Epoch: 3 [51200/60000 (85%)]\tLoss: 0.216241\n",
            "Train Epoch: 3 [57600/60000 (96%)]\tLoss: 0.268965\n",
            "\n",
            "Test set: Average loss: 0.1785, Accuracy: 9508/10000 (95%)\n",
            "\n",
            "Train Epoch: 4 [0/60000 (0%)]\tLoss: 0.292601\n",
            "Train Epoch: 4 [6400/60000 (11%)]\tLoss: 0.174070\n",
            "Train Epoch: 4 [12800/60000 (21%)]\tLoss: 0.131785\n",
            "Train Epoch: 4 [19200/60000 (32%)]\tLoss: 0.376304\n",
            "Train Epoch: 4 [25600/60000 (43%)]\tLoss: 0.106300\n",
            "Train Epoch: 4 [32000/60000 (53%)]\tLoss: 0.281974\n",
            "Train Epoch: 4 [38400/60000 (64%)]\tLoss: 0.190286\n",
            "Train Epoch: 4 [44800/60000 (75%)]\tLoss: 0.069754\n",
            "Train Epoch: 4 [51200/60000 (85%)]\tLoss: 0.290175\n",
            "Train Epoch: 4 [57600/60000 (96%)]\tLoss: 0.109554\n",
            "\n",
            "Test set: Average loss: 0.1433, Accuracy: 9613/10000 (96%)\n",
            "\n",
            "Train Epoch: 5 [0/60000 (0%)]\tLoss: 0.042361\n",
            "Train Epoch: 5 [6400/60000 (11%)]\tLoss: 0.130121\n",
            "Train Epoch: 5 [12800/60000 (21%)]\tLoss: 0.098454\n",
            "Train Epoch: 5 [19200/60000 (32%)]\tLoss: 0.202939\n",
            "Train Epoch: 5 [25600/60000 (43%)]\tLoss: 0.228897\n",
            "Train Epoch: 5 [32000/60000 (53%)]\tLoss: 0.162912\n",
            "Train Epoch: 5 [38400/60000 (64%)]\tLoss: 0.148327\n",
            "Train Epoch: 5 [44800/60000 (75%)]\tLoss: 0.169987\n",
            "Train Epoch: 5 [51200/60000 (85%)]\tLoss: 0.106753\n",
            "Train Epoch: 5 [57600/60000 (96%)]\tLoss: 0.095616\n",
            "\n",
            "Test set: Average loss: 0.1182, Accuracy: 9658/10000 (97%)\n",
            "\n"
          ],
          "name": "stdout"
        }
      ]
    },
    {
      "cell_type": "code",
      "metadata": {
        "id": "VxRbNlykE0-1",
        "colab_type": "code",
        "colab": {}
      },
      "source": [
        ""
      ],
      "execution_count": null,
      "outputs": []
    }
  ]
}