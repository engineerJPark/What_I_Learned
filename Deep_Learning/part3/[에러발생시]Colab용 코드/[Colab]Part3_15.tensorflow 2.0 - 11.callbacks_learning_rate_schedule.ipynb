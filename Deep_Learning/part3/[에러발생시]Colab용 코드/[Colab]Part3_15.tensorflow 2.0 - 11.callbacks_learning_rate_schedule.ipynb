{
  "nbformat": 4,
  "nbformat_minor": 0,
  "metadata": {
    "kernelspec": {
      "display_name": "Python 3",
      "language": "python",
      "name": "python3"
    },
    "language_info": {
      "codemirror_mode": {
        "name": "ipython",
        "version": 3
      },
      "file_extension": ".py",
      "mimetype": "text/x-python",
      "name": "python",
      "nbconvert_exporter": "python",
      "pygments_lexer": "ipython3",
      "version": "3.7.3"
    },
    "colab": {
      "name": "[검수완료]15. callbacks - learning rate schedule.ipynb",
      "provenance": []
    }
  },
  "cells": [
    {
      "cell_type": "markdown",
      "metadata": {
        "id": "EJ2W3iJ_ZF4F",
        "colab_type": "text"
      },
      "source": [
        "# TensorFlow 2.0"
      ]
    },
    {
      "cell_type": "code",
      "metadata": {
        "id": "eF_vGtL8ZF4G",
        "colab_type": "code",
        "colab": {}
      },
      "source": [
        "import os\n",
        "from glob import glob\n",
        "from datetime import datetime\n",
        "\n",
        "import numpy as np\n",
        "\n",
        "import tensorflow as tf\n",
        "from tensorflow.keras import layers\n",
        "\n",
        "from tensorflow.keras import datasets \n",
        "\n",
        "import matplotlib.pyplot as plt\n",
        "\n",
        "%matplotlib inline"
      ],
      "execution_count": 1,
      "outputs": []
    },
    {
      "cell_type": "markdown",
      "metadata": {
        "id": "ouonTRwvZF4M",
        "colab_type": "text"
      },
      "source": [
        "## Hyperparameter Tunning"
      ]
    },
    {
      "cell_type": "code",
      "metadata": {
        "id": "VGHMHlXJZF4N",
        "colab_type": "code",
        "colab": {}
      },
      "source": [
        "num_epochs = 20\n",
        "batch_size = 32\n",
        "\n",
        "learning_rate = 0.001\n",
        "\n",
        "dropout_rate = 0.5\n",
        "\n",
        "input_shape = (32, 32, 3)\n",
        "num_classes = 10"
      ],
      "execution_count": 2,
      "outputs": []
    },
    {
      "cell_type": "markdown",
      "metadata": {
        "id": "IJ3uxeiZZF4Q",
        "colab_type": "text"
      },
      "source": [
        "## Build Model"
      ]
    },
    {
      "cell_type": "code",
      "metadata": {
        "id": "IgtqcGwEZF4R",
        "colab_type": "code",
        "colab": {}
      },
      "source": [
        "inputs = layers.Input(input_shape)\n",
        "\n",
        "net = layers.Conv2D(32, (3, 3), padding='SAME')(inputs)\n",
        "net = layers.Activation('relu')(net)\n",
        "net = layers.Conv2D(32, (3, 3), padding='SAME')(net)\n",
        "net = layers.Activation('relu')(net)\n",
        "net = layers.MaxPooling2D(pool_size=(2, 2))(net)\n",
        "net = layers.Dropout(dropout_rate)(net)\n",
        "\n",
        "net = layers.Conv2D(64, (3, 3), padding='SAME')(net)\n",
        "net = layers.Activation('relu')(net)\n",
        "net = layers.Conv2D(64, (3, 3), padding='SAME')(net)\n",
        "net = layers.Activation('relu')(net)\n",
        "net = layers.MaxPooling2D(pool_size=(2, 2))(net)\n",
        "net = layers.Dropout(dropout_rate)(net)\n",
        "\n",
        "net = layers.Flatten()(net)\n",
        "net = layers.Dense(512)(net)\n",
        "net = layers.Activation('relu')(net)\n",
        "net = layers.Dropout(dropout_rate)(net)\n",
        "net = layers.Dense(num_classes)(net)\n",
        "net = layers.Activation('softmax')(net)\n",
        "\n",
        "model = tf.keras.Model(inputs=inputs, outputs=net, name='Basic_CNN')"
      ],
      "execution_count": 3,
      "outputs": []
    },
    {
      "cell_type": "code",
      "metadata": {
        "id": "O_euytbxZF4T",
        "colab_type": "code",
        "colab": {}
      },
      "source": [
        "# Model is the full model w/o custom layers\n",
        "model.compile(optimizer=tf.keras.optimizers.Adam(learning_rate),  # Optimization\n",
        "              loss='sparse_categorical_crossentropy',  # Loss Function \n",
        "              metrics=['accuracy'])  # Metrics / Accuracy"
      ],
      "execution_count": 4,
      "outputs": []
    },
    {
      "cell_type": "markdown",
      "metadata": {
        "id": "G8HOivz2ZF4W",
        "colab_type": "text"
      },
      "source": [
        "# Data Preprocess"
      ]
    },
    {
      "cell_type": "code",
      "metadata": {
        "id": "cr7zwyS-g6Nx",
        "colab_type": "code",
        "colab": {
          "base_uri": "https://localhost:8080/",
          "height": 122
        },
        "outputId": "96ac5315-766f-4c69-8646-40c4c2740e8d"
      },
      "source": [
        "from google.colab import drive\n",
        "drive.mount('/content/drive')"
      ],
      "execution_count": 5,
      "outputs": [
        {
          "output_type": "stream",
          "text": [
            "Go to this URL in a browser: https://accounts.google.com/o/oauth2/auth?client_id=947318989803-6bn6qk8qdgf4n4g3pfee6491hc0brc4i.apps.googleusercontent.com&redirect_uri=urn%3aietf%3awg%3aoauth%3a2.0%3aoob&scope=email%20https%3a%2f%2fwww.googleapis.com%2fauth%2fdocs.test%20https%3a%2f%2fwww.googleapis.com%2fauth%2fdrive%20https%3a%2f%2fwww.googleapis.com%2fauth%2fdrive.photos.readonly%20https%3a%2f%2fwww.googleapis.com%2fauth%2fpeopleapi.readonly&response_type=code\n",
            "\n",
            "Enter your authorization code:\n",
            "··········\n",
            "Mounted at /content/drive\n"
          ],
          "name": "stdout"
        }
      ]
    },
    {
      "cell_type": "code",
      "metadata": {
        "id": "mMCQzAYOg6Fg",
        "colab_type": "code",
        "colab": {}
      },
      "source": [
        "# 압축 풀기\n",
        "!unzip -qq /content/drive/\"My Drive\"/\"[AOP:딥러닝 인공지능]\"/TEST/\"1. [Tensorflow 2.0 과 Pytorch]\"/\"3. 이미지 분석으로 배우는 tensorflow 2.0과 Pytorch\"/\"3. dataset\"/cifar.zip\n"
      ],
      "execution_count": 6,
      "outputs": []
    },
    {
      "cell_type": "code",
      "metadata": {
        "id": "I-3ynpj2g99j",
        "colab_type": "code",
        "colab": {
          "base_uri": "https://localhost:8080/",
          "height": 34
        },
        "outputId": "df076f0d-30b1-48e1-96dd-3b59a0ff73eb"
      },
      "source": [
        "os.listdir('/content/cifar/')"
      ],
      "execution_count": 7,
      "outputs": [
        {
          "output_type": "execute_result",
          "data": {
            "text/plain": [
              "['labels.txt', 'test', 'train']"
            ]
          },
          "metadata": {
            "tags": []
          },
          "execution_count": 7
        }
      ]
    },
    {
      "cell_type": "code",
      "metadata": {
        "id": "bWoNKN7iZF4W",
        "colab_type": "code",
        "colab": {}
      },
      "source": [
        "train_paths = glob('/content/cifar/train/*.png')[:100]\n",
        "test_paths = glob('/content/cifar/test/*.png')[:100]"
      ],
      "execution_count": 5,
      "outputs": []
    },
    {
      "cell_type": "code",
      "metadata": {
        "id": "n6TKgivYZF4Y",
        "colab_type": "code",
        "colab": {}
      },
      "source": [
        "def get_class_name(path):\n",
        "    return path.split('_')[-1].replace('.png', '')"
      ],
      "execution_count": 6,
      "outputs": []
    },
    {
      "cell_type": "code",
      "metadata": {
        "id": "0DIfqQcVZF4Z",
        "colab_type": "code",
        "colab": {}
      },
      "source": [
        "train_labels = [get_class_name(path) for path in train_paths]\n",
        "class_names = np.unique(train_labels)"
      ],
      "execution_count": 7,
      "outputs": []
    },
    {
      "cell_type": "code",
      "metadata": {
        "id": "0y3mUUDCZF4b",
        "colab_type": "code",
        "colab": {}
      },
      "source": [
        "def get_label(path):\n",
        "    fname = tf.strings.split(path, '_')[-1]\n",
        "    lbl_name = tf.strings.regex_replace(fname, '.png', '')\n",
        "    onehot = tf.cast(lbl_name == class_names, tf.uint8)\n",
        "    return tf.argmax(onehot)  # 이번에는 onehot이 아닌 label 번호로"
      ],
      "execution_count": 8,
      "outputs": []
    },
    {
      "cell_type": "code",
      "metadata": {
        "id": "H3nfL28uZF4c",
        "colab_type": "code",
        "colab": {}
      },
      "source": [
        "def load_image_label(path):\n",
        "    gfile = tf.io.read_file(path)\n",
        "    image = tf.io.decode_image(gfile)\n",
        "    image = tf.cast(image, tf.float32) / 255.  # rescale\n",
        "    \n",
        "    label = get_label(path)\n",
        "    return image, label"
      ],
      "execution_count": 9,
      "outputs": []
    },
    {
      "cell_type": "code",
      "metadata": {
        "id": "RUaxgNhEZF4d",
        "colab_type": "code",
        "colab": {}
      },
      "source": [
        "def image_preprocess(image, label):\n",
        "    image = tf.image.random_flip_up_down(image)\n",
        "    image = tf.image.random_flip_left_right(image)\n",
        "    return image, label"
      ],
      "execution_count": 10,
      "outputs": []
    },
    {
      "cell_type": "code",
      "metadata": {
        "id": "RQ500hZwZF4f",
        "colab_type": "code",
        "colab": {}
      },
      "source": [
        "AUTOTUNE = tf.data.experimental.AUTOTUNE"
      ],
      "execution_count": 11,
      "outputs": []
    },
    {
      "cell_type": "code",
      "metadata": {
        "scrolled": false,
        "id": "mRr5ZIHrZF4g",
        "colab_type": "code",
        "colab": {}
      },
      "source": [
        "train_dataset = tf.data.Dataset.from_tensor_slices(train_paths)\n",
        "train_dataset = train_dataset.map(load_image_label, num_parallel_calls=AUTOTUNE)\n",
        "train_dataset = train_dataset.map(image_preprocess, num_parallel_calls=AUTOTUNE)\n",
        "train_dataset = train_dataset.batch(batch_size)\n",
        "train_dataset = train_dataset.shuffle(buffer_size=len(train_paths))\n",
        "train_dataset = train_dataset.repeat()"
      ],
      "execution_count": 12,
      "outputs": []
    },
    {
      "cell_type": "code",
      "metadata": {
        "id": "5T6nNlcbZF4h",
        "colab_type": "code",
        "colab": {}
      },
      "source": [
        "test_dataset = tf.data.Dataset.from_tensor_slices(test_paths)\n",
        "test_dataset = test_dataset.map(load_image_label, num_parallel_calls=AUTOTUNE)\n",
        "test_dataset = test_dataset.batch(batch_size)\n",
        "test_dataset = test_dataset.repeat()"
      ],
      "execution_count": 13,
      "outputs": []
    },
    {
      "cell_type": "markdown",
      "metadata": {
        "id": "X0FWRYRFZF4j",
        "colab_type": "text"
      },
      "source": [
        "# Learning Rate Scheduler"
      ]
    },
    {
      "cell_type": "code",
      "metadata": {
        "id": "f34-HsF2njq4",
        "colab_type": "code",
        "colab": {}
      },
      "source": [
        "import math"
      ],
      "execution_count": 14,
      "outputs": []
    },
    {
      "cell_type": "code",
      "metadata": {
        "id": "R3-28A4fnUyU",
        "colab_type": "code",
        "colab": {}
      },
      "source": [
        "def scheduler(epoch):\n",
        "  if epoch < 10:\n",
        "    return 0.001\n",
        "  else:\n",
        "    return 0.001 * math.exp(0.1 * (10 - epoch))"
      ],
      "execution_count": 15,
      "outputs": []
    },
    {
      "cell_type": "code",
      "metadata": {
        "id": "ZeRM6ozunn_S",
        "colab_type": "code",
        "colab": {
          "base_uri": "https://localhost:8080/",
          "height": 187
        },
        "outputId": "413b82e4-a099-48b3-a3cd-2ba6fab2b529"
      },
      "source": [
        "# 함수가 어떻게 동작하는지 확인 \n",
        "for epoch in range(10,20):\n",
        "  print(0.001 * math.exp(0.1 * (10 - epoch)))"
      ],
      "execution_count": 16,
      "outputs": [
        {
          "output_type": "stream",
          "text": [
            "0.001\n",
            "0.0009048374180359595\n",
            "0.0008187307530779819\n",
            "0.0007408182206817179\n",
            "0.0006703200460356394\n",
            "0.0006065306597126335\n",
            "0.0005488116360940264\n",
            "0.0004965853037914095\n",
            "0.0004493289641172216\n",
            "0.00040656965974059914\n"
          ],
          "name": "stdout"
        }
      ]
    },
    {
      "cell_type": "code",
      "metadata": {
        "id": "DLvD7KltZF4j",
        "colab_type": "code",
        "colab": {}
      },
      "source": [
        "learning_rate_scheduler = tf.keras.callbacks.LearningRateScheduler(scheduler, verbose=1) #verbose를 1로 지정해주면 learning rate 로그를 보여줌"
      ],
      "execution_count": 17,
      "outputs": []
    },
    {
      "cell_type": "markdown",
      "metadata": {
        "id": "NE4OcO9VZF4l",
        "colab_type": "text"
      },
      "source": [
        "## Training"
      ]
    },
    {
      "cell_type": "code",
      "metadata": {
        "id": "mGfw0WvCZF4l",
        "colab_type": "code",
        "colab": {
          "base_uri": "https://localhost:8080/",
          "height": 1000
        },
        "outputId": "e351e66b-139f-42ab-b366-390cec8daefd"
      },
      "source": [
        "steps_per_epoch = len(train_paths) // batch_size\n",
        "validation_steps = len(test_paths) // batch_size\n",
        "\n",
        "model.fit_generator(\n",
        "    train_dataset,\n",
        "    steps_per_epoch=steps_per_epoch,\n",
        "    validation_data=test_dataset,\n",
        "    validation_steps=validation_steps,\n",
        "    epochs=num_epochs,\n",
        "    callbacks=[learning_rate_scheduler]\n",
        ")"
      ],
      "execution_count": 18,
      "outputs": [
        {
          "output_type": "stream",
          "text": [
            "WARNING:tensorflow:From <ipython-input-18-98963009f610>:10: Model.fit_generator (from tensorflow.python.keras.engine.training) is deprecated and will be removed in a future version.\n",
            "Instructions for updating:\n",
            "Please use Model.fit, which supports generators.\n",
            "\n",
            "Epoch 00001: LearningRateScheduler reducing learning rate to 0.001.\n",
            "Epoch 1/20\n",
            "3/3 [==============================] - 1s 225ms/step - loss: 2.4741 - accuracy: 0.1765 - val_loss: 2.2988 - val_accuracy: 0.1250\n",
            "\n",
            "Epoch 00002: LearningRateScheduler reducing learning rate to 0.001.\n",
            "Epoch 2/20\n",
            "3/3 [==============================] - 1s 180ms/step - loss: 2.3890 - accuracy: 0.1471 - val_loss: 2.2944 - val_accuracy: 0.1458\n",
            "\n",
            "Epoch 00003: LearningRateScheduler reducing learning rate to 0.001.\n",
            "Epoch 3/20\n",
            "3/3 [==============================] - 1s 226ms/step - loss: 2.2720 - accuracy: 0.2188 - val_loss: 2.2921 - val_accuracy: 0.1458\n",
            "\n",
            "Epoch 00004: LearningRateScheduler reducing learning rate to 0.001.\n",
            "Epoch 4/20\n",
            "3/3 [==============================] - 1s 172ms/step - loss: 2.4083 - accuracy: 0.1471 - val_loss: 2.2933 - val_accuracy: 0.1458\n",
            "\n",
            "Epoch 00005: LearningRateScheduler reducing learning rate to 0.001.\n",
            "Epoch 5/20\n",
            "3/3 [==============================] - 1s 218ms/step - loss: 2.2821 - accuracy: 0.1875 - val_loss: 2.2927 - val_accuracy: 0.1458\n",
            "\n",
            "Epoch 00006: LearningRateScheduler reducing learning rate to 0.001.\n",
            "Epoch 6/20\n",
            "3/3 [==============================] - 1s 223ms/step - loss: 2.3231 - accuracy: 0.1471 - val_loss: 2.2919 - val_accuracy: 0.1458\n",
            "\n",
            "Epoch 00007: LearningRateScheduler reducing learning rate to 0.001.\n",
            "Epoch 7/20\n",
            "3/3 [==============================] - 0s 132ms/step - loss: 2.0713 - accuracy: 0.3500 - val_loss: 2.2930 - val_accuracy: 0.1458\n",
            "\n",
            "Epoch 00008: LearningRateScheduler reducing learning rate to 0.001.\n",
            "Epoch 8/20\n",
            "3/3 [==============================] - 1s 211ms/step - loss: 2.4157 - accuracy: 0.1875 - val_loss: 2.2961 - val_accuracy: 0.1458\n",
            "\n",
            "Epoch 00009: LearningRateScheduler reducing learning rate to 0.001.\n",
            "Epoch 9/20\n",
            "3/3 [==============================] - 1s 170ms/step - loss: 2.2823 - accuracy: 0.2059 - val_loss: 2.2903 - val_accuracy: 0.1458\n",
            "\n",
            "Epoch 00010: LearningRateScheduler reducing learning rate to 0.001.\n",
            "Epoch 10/20\n",
            "3/3 [==============================] - 1s 177ms/step - loss: 2.3163 - accuracy: 0.1471 - val_loss: 2.2916 - val_accuracy: 0.1458\n",
            "\n",
            "Epoch 00011: LearningRateScheduler reducing learning rate to 0.001.\n",
            "Epoch 11/20\n",
            "3/3 [==============================] - 1s 221ms/step - loss: 2.1986 - accuracy: 0.2396 - val_loss: 2.2915 - val_accuracy: 0.1458\n",
            "\n",
            "Epoch 00012: LearningRateScheduler reducing learning rate to 0.0009048374180359595.\n",
            "Epoch 12/20\n",
            "3/3 [==============================] - 1s 170ms/step - loss: 2.2271 - accuracy: 0.2059 - val_loss: 2.2905 - val_accuracy: 0.1458\n",
            "\n",
            "Epoch 00013: LearningRateScheduler reducing learning rate to 0.0008187307530779819.\n",
            "Epoch 13/20\n",
            "3/3 [==============================] - 1s 208ms/step - loss: 2.2807 - accuracy: 0.1875 - val_loss: 2.2908 - val_accuracy: 0.1458\n",
            "\n",
            "Epoch 00014: LearningRateScheduler reducing learning rate to 0.0007408182206817179.\n",
            "Epoch 14/20\n",
            "3/3 [==============================] - 1s 178ms/step - loss: 2.0009 - accuracy: 0.3500 - val_loss: 2.3240 - val_accuracy: 0.1458\n",
            "\n",
            "Epoch 00015: LearningRateScheduler reducing learning rate to 0.0006703200460356394.\n",
            "Epoch 15/20\n",
            "3/3 [==============================] - 1s 227ms/step - loss: 2.4881 - accuracy: 0.1458 - val_loss: 2.2947 - val_accuracy: 0.1458\n",
            "\n",
            "Epoch 00016: LearningRateScheduler reducing learning rate to 0.0006065306597126335.\n",
            "Epoch 16/20\n",
            "3/3 [==============================] - 1s 170ms/step - loss: 2.2327 - accuracy: 0.1912 - val_loss: 2.2789 - val_accuracy: 0.1458\n",
            "\n",
            "Epoch 00017: LearningRateScheduler reducing learning rate to 0.0005488116360940264.\n",
            "Epoch 17/20\n",
            "3/3 [==============================] - 1s 206ms/step - loss: 2.2663 - accuracy: 0.1912 - val_loss: 2.2749 - val_accuracy: 0.1458\n",
            "\n",
            "Epoch 00018: LearningRateScheduler reducing learning rate to 0.0004965853037914095.\n",
            "Epoch 18/20\n",
            "3/3 [==============================] - 1s 187ms/step - loss: 2.2160 - accuracy: 0.2059 - val_loss: 2.2682 - val_accuracy: 0.1458\n",
            "\n",
            "Epoch 00019: LearningRateScheduler reducing learning rate to 0.0004493289641172216.\n",
            "Epoch 19/20\n",
            "3/3 [==============================] - 1s 225ms/step - loss: 2.1945 - accuracy: 0.2292 - val_loss: 2.2648 - val_accuracy: 0.1458\n",
            "\n",
            "Epoch 00020: LearningRateScheduler reducing learning rate to 0.00040656965974059914.\n",
            "Epoch 20/20\n",
            "3/3 [==============================] - 1s 169ms/step - loss: 2.2737 - accuracy: 0.1471 - val_loss: 2.2574 - val_accuracy: 0.1458\n"
          ],
          "name": "stdout"
        },
        {
          "output_type": "execute_result",
          "data": {
            "text/plain": [
              "<tensorflow.python.keras.callbacks.History at 0x7f4e2d441748>"
            ]
          },
          "metadata": {
            "tags": []
          },
          "execution_count": 18
        }
      ]
    },
    {
      "cell_type": "code",
      "metadata": {
        "id": "-aKUoo4koH0V",
        "colab_type": "code",
        "colab": {}
      },
      "source": [
        ""
      ],
      "execution_count": null,
      "outputs": []
    }
  ]
}