{
 "cells": [
  {
   "cell_type": "markdown",
   "metadata": {},
   "source": [
    "# TensorFlow 2.0"
   ]
  },
  {
   "cell_type": "code",
   "execution_count": 1,
   "metadata": {},
   "outputs": [],
   "source": [
    "import os\n",
    "from glob import glob\n",
    "from datetime import datetime\n",
    "\n",
    "import numpy as np\n",
    "\n",
    "import tensorflow as tf\n",
    "from tensorflow.keras import layers\n",
    "\n",
    "from tensorflow.keras import datasets \n",
    "\n",
    "import matplotlib.pyplot as plt\n",
    "\n",
    "%matplotlib inline"
   ]
  },
  {
   "cell_type": "markdown",
   "metadata": {},
   "source": [
    "## Hyperparameter Tunning"
   ]
  },
  {
   "cell_type": "code",
   "execution_count": 2,
   "metadata": {},
   "outputs": [],
   "source": [
    "num_epochs = 50\n",
    "batch_size = 32\n",
    "\n",
    "learning_rate = 0.001\n",
    "\n",
    "dropout_rate = 0.5\n",
    "\n",
    "input_shape = (32, 32, 3)\n",
    "num_classes = 10"
   ]
  },
  {
   "cell_type": "markdown",
   "metadata": {},
   "source": [
    "## Build Model"
   ]
  },
  {
   "cell_type": "code",
   "execution_count": 3,
   "metadata": {},
   "outputs": [],
   "source": [
    "inputs = layers.Input(input_shape)\n",
    "\n",
    "net = layers.Conv2D(32, (3, 3), padding='SAME')(inputs)\n",
    "net = layers.Activation('relu')(net)\n",
    "net = layers.Conv2D(32, (3, 3), padding='SAME')(net)\n",
    "net = layers.Activation('relu')(net)\n",
    "net = layers.MaxPooling2D(pool_size=(2, 2))(net)\n",
    "net = layers.Dropout(dropout_rate)(net)\n",
    "\n",
    "net = layers.Conv2D(64, (3, 3), padding='SAME')(net)\n",
    "net = layers.Activation('relu')(net)\n",
    "net = layers.Conv2D(64, (3, 3), padding='SAME')(net)\n",
    "net = layers.Activation('relu')(net)\n",
    "net = layers.MaxPooling2D(pool_size=(2, 2))(net)\n",
    "net = layers.Dropout(dropout_rate)(net)\n",
    "\n",
    "net = layers.Flatten()(net)\n",
    "net = layers.Dense(512)(net)\n",
    "net = layers.Activation('relu')(net)\n",
    "net = layers.Dropout(dropout_rate)(net)\n",
    "net = layers.Dense(num_classes)(net)\n",
    "net = layers.Activation('softmax')(net)\n",
    "\n",
    "model = tf.keras.Model(inputs=inputs, outputs=net, name='Basic_CNN')"
   ]
  },
  {
   "cell_type": "code",
   "execution_count": 4,
   "metadata": {},
   "outputs": [],
   "source": [
    "# Model is the full model w/o custom layers\n",
    "model.compile(optimizer=tf.keras.optimizers.Adam(learning_rate),  # Optimization\n",
    "              loss='sparse_categorical_crossentropy',  # Loss Function \n",
    "              metrics=['accuracy'])  # Metrics / Accuracy"
   ]
  },
  {
   "cell_type": "markdown",
   "metadata": {},
   "source": [
    "# Data Preprocess"
   ]
  },
  {
   "cell_type": "code",
   "execution_count": 5,
   "metadata": {},
   "outputs": [],
   "source": [
    "train_paths = glob('dataset/cifar/train/*.png')[:1000]\n",
    "test_paths = glob('dataset/cifar/test/*.png')[:1000]"
   ]
  },
  {
   "cell_type": "code",
   "execution_count": 6,
   "metadata": {},
   "outputs": [],
   "source": [
    "def get_class_name(path):\n",
    "    return path.split('_')[-1].replace('.png', '')"
   ]
  },
  {
   "cell_type": "code",
   "execution_count": 7,
   "metadata": {},
   "outputs": [],
   "source": [
    "train_labels = [get_class_name(path) for path in train_paths]\n",
    "class_names = np.unique(train_labels)"
   ]
  },
  {
   "cell_type": "code",
   "execution_count": 8,
   "metadata": {},
   "outputs": [],
   "source": [
    "def get_label(path):\n",
    "    fname = tf.strings.split(path, '_')[-1]\n",
    "    lbl_name = tf.strings.regex_replace(fname, '.png', '')\n",
    "    onehot = tf.cast(lbl_name == class_names, tf.uint8)\n",
    "    return tf.argmax(onehot)  # 이번에는 onehot이 아닌 label 번호로"
   ]
  },
  {
   "cell_type": "code",
   "execution_count": 9,
   "metadata": {},
   "outputs": [],
   "source": [
    "def load_image_label(path):\n",
    "    gfile = tf.io.read_file(path)\n",
    "    image = tf.io.decode_image(gfile)\n",
    "    image = tf.cast(image, tf.float32) / 255.  # rescale\n",
    "    \n",
    "    label = get_label(path)\n",
    "    return image, label"
   ]
  },
  {
   "cell_type": "code",
   "execution_count": 10,
   "metadata": {},
   "outputs": [],
   "source": [
    "def image_preprocess(image, label):\n",
    "    image = tf.image.random_flip_up_down(image)\n",
    "    image = tf.image.random_flip_left_right(image)\n",
    "    return image, label"
   ]
  },
  {
   "cell_type": "code",
   "execution_count": 11,
   "metadata": {},
   "outputs": [],
   "source": [
    "AUTOTUNE = tf.data.experimental.AUTOTUNE"
   ]
  },
  {
   "cell_type": "code",
   "execution_count": 12,
   "metadata": {
    "scrolled": false
   },
   "outputs": [],
   "source": [
    "train_dataset = tf.data.Dataset.from_tensor_slices(train_paths)\n",
    "train_dataset = train_dataset.map(load_image_label, num_parallel_calls=AUTOTUNE)\n",
    "train_dataset = train_dataset.map(image_preprocess, num_parallel_calls=AUTOTUNE)\n",
    "train_dataset = train_dataset.batch(batch_size)\n",
    "train_dataset = train_dataset.shuffle(buffer_size=len(train_paths))\n",
    "train_dataset = train_dataset.repeat()"
   ]
  },
  {
   "cell_type": "code",
   "execution_count": 13,
   "metadata": {},
   "outputs": [],
   "source": [
    "test_dataset = tf.data.Dataset.from_tensor_slices(test_paths)\n",
    "test_dataset = test_dataset.map(load_image_label, num_parallel_calls=AUTOTUNE)\n",
    "test_dataset = test_dataset.batch(batch_size)\n",
    "test_dataset = test_dataset.repeat()"
   ]
  },
  {
   "cell_type": "markdown",
   "metadata": {},
   "source": [
    "## Training"
   ]
  },
  {
   "cell_type": "markdown",
   "metadata": {},
   "source": [
    "http://localhost:6006"
   ]
  },
  {
   "cell_type": "code",
   "execution_count": 14,
   "metadata": {
    "scrolled": false
   },
   "outputs": [
    {
     "name": "stdout",
     "output_type": "stream",
     "text": [
      "Epoch 1/50\n"
     ]
    },
    {
     "name": "stderr",
     "output_type": "stream",
     "text": [
      "WARNING: Logging before flag parsing goes to stderr.\n",
      "W0905 13:59:10.081281  5532 deprecation.py:323] From C:\\ProgramData\\Anaconda3\\lib\\site-packages\\tensorflow_core\\python\\ops\\math_grad.py:1394: where (from tensorflow.python.ops.array_ops) is deprecated and will be removed in a future version.\n",
      "Instructions for updating:\n",
      "Use tf.where in 2.0, which has the same broadcast rule as np.where\n"
     ]
    },
    {
     "name": "stdout",
     "output_type": "stream",
     "text": [
      "31/31 [==============================] - 8s 267ms/step - loss: 2.3297 - accuracy: 0.0981 - val_loss: 2.3004 - val_accuracy: 0.1129\n",
      "Epoch 2/50\n",
      "31/31 [==============================] - 7s 224ms/step - loss: 2.2817 - accuracy: 0.1178 - val_loss: 2.2517 - val_accuracy: 0.1270\n",
      "Epoch 3/50\n",
      "31/31 [==============================] - 8s 261ms/step - loss: 2.2480 - accuracy: 0.1415 - val_loss: 2.2655 - val_accuracy: 0.1220\n",
      "Epoch 4/50\n",
      "31/31 [==============================] - 8s 258ms/step - loss: 2.2027 - accuracy: 0.2045 - val_loss: 2.1625 - val_accuracy: 0.2056\n",
      "Epoch 5/50\n",
      "31/31 [==============================] - 7s 238ms/step - loss: 2.1493 - accuracy: 0.2025 - val_loss: 2.1139 - val_accuracy: 0.2339\n",
      "Epoch 6/50\n",
      "31/31 [==============================] - 9s 299ms/step - loss: 2.0680 - accuracy: 0.2386 - val_loss: 1.9868 - val_accuracy: 0.2228\n",
      "Epoch 7/50\n",
      "31/31 [==============================] - 9s 287ms/step - loss: 2.0239 - accuracy: 0.2376 - val_loss: 1.9655 - val_accuracy: 0.2913\n",
      "Epoch 8/50\n",
      "31/31 [==============================] - 7s 228ms/step - loss: 1.9658 - accuracy: 0.2428 - val_loss: 1.8925 - val_accuracy: 0.2772\n",
      "Epoch 9/50\n",
      "31/31 [==============================] - 7s 223ms/step - loss: 1.9178 - accuracy: 0.2696 - val_loss: 1.8521 - val_accuracy: 0.3226\n",
      "Epoch 10/50\n",
      "31/31 [==============================] - 7s 222ms/step - loss: 1.8562 - accuracy: 0.3089 - val_loss: 1.7877 - val_accuracy: 0.3518\n",
      "Epoch 11/50\n",
      "31/31 [==============================] - 7s 224ms/step - loss: 1.9216 - accuracy: 0.2833 - val_loss: 1.8910 - val_accuracy: 0.3024\n",
      "Epoch 12/50\n",
      "31/31 [==============================] - 7s 219ms/step - loss: 1.7885 - accuracy: 0.3157 - val_loss: 1.7513 - val_accuracy: 0.3417\n",
      "Epoch 13/50\n",
      "31/31 [==============================] - 7s 222ms/step - loss: 1.7908 - accuracy: 0.3399 - val_loss: 1.7379 - val_accuracy: 0.3629\n",
      "Epoch 14/50\n",
      "31/31 [==============================] - 7s 227ms/step - loss: 1.7624 - accuracy: 0.3528 - val_loss: 1.7500 - val_accuracy: 0.3548\n",
      "Epoch 15/50\n",
      "31/31 [==============================] - 7s 224ms/step - loss: 1.7813 - accuracy: 0.3409 - val_loss: 1.7965 - val_accuracy: 0.3639\n",
      "Epoch 16/50\n",
      "31/31 [==============================] - 7s 222ms/step - loss: 1.6709 - accuracy: 0.3926 - val_loss: 1.8302 - val_accuracy: 0.3579\n",
      "Epoch 17/50\n",
      "31/31 [==============================] - 7s 221ms/step - loss: 1.7097 - accuracy: 0.3517 - val_loss: 1.7587 - val_accuracy: 0.3629\n",
      "Epoch 18/50\n",
      "31/31 [==============================] - 7s 226ms/step - loss: 1.6923 - accuracy: 0.3649 - val_loss: 1.7250 - val_accuracy: 0.3861\n",
      "Epoch 19/50\n",
      "31/31 [==============================] - 7s 219ms/step - loss: 1.6855 - accuracy: 0.3697 - val_loss: 1.6967 - val_accuracy: 0.3579\n",
      "Epoch 20/50\n",
      "31/31 [==============================] - 7s 235ms/step - loss: 1.6661 - accuracy: 0.3972 - val_loss: 1.7642 - val_accuracy: 0.3790\n",
      "Epoch 21/50\n",
      "31/31 [==============================] - 7s 222ms/step - loss: 1.6122 - accuracy: 0.4060 - val_loss: 1.6988 - val_accuracy: 0.3821\n",
      "Epoch 22/50\n",
      "31/31 [==============================] - 7s 223ms/step - loss: 1.6091 - accuracy: 0.4081 - val_loss: 1.6835 - val_accuracy: 0.3931\n",
      "Epoch 23/50\n",
      "31/31 [==============================] - 7s 229ms/step - loss: 1.5584 - accuracy: 0.4091 - val_loss: 1.6752 - val_accuracy: 0.3891\n",
      "Epoch 24/50\n",
      "31/31 [==============================] - 7s 229ms/step - loss: 1.5375 - accuracy: 0.4225 - val_loss: 1.6680 - val_accuracy: 0.3770\n",
      "Epoch 25/50\n",
      "31/31 [==============================] - 7s 242ms/step - loss: 1.5487 - accuracy: 0.4081 - val_loss: 1.6656 - val_accuracy: 0.3992\n",
      "Epoch 26/50\n",
      "31/31 [==============================] - 7s 230ms/step - loss: 1.4893 - accuracy: 0.4449 - val_loss: 1.6984 - val_accuracy: 0.3952\n",
      "Epoch 27/50\n",
      "31/31 [==============================] - 7s 223ms/step - loss: 1.5395 - accuracy: 0.4473 - val_loss: 1.6066 - val_accuracy: 0.4032\n",
      "Epoch 28/50\n",
      "31/31 [==============================] - 7s 226ms/step - loss: 1.5580 - accuracy: 0.4526 - val_loss: 1.6220 - val_accuracy: 0.3992\n",
      "Epoch 29/50\n",
      "31/31 [==============================] - 7s 227ms/step - loss: 1.4562 - accuracy: 0.4556 - val_loss: 1.7068 - val_accuracy: 0.4032\n",
      "Epoch 30/50\n",
      "31/31 [==============================] - 7s 227ms/step - loss: 1.4315 - accuracy: 0.4576 - val_loss: 1.6477 - val_accuracy: 0.4163\n",
      "Epoch 31/50\n",
      "31/31 [==============================] - 7s 225ms/step - loss: 1.4000 - accuracy: 0.4661 - val_loss: 1.6414 - val_accuracy: 0.4062\n",
      "Epoch 32/50\n",
      "31/31 [==============================] - 7s 213ms/step - loss: 1.4364 - accuracy: 0.4607 - val_loss: 1.6118 - val_accuracy: 0.4244\n",
      "Epoch 33/50\n",
      "31/31 [==============================] - 7s 224ms/step - loss: 1.4211 - accuracy: 0.4814 - val_loss: 1.5815 - val_accuracy: 0.4224\n",
      "Epoch 34/50\n",
      "31/31 [==============================] - 7s 229ms/step - loss: 1.3767 - accuracy: 0.5186 - val_loss: 1.5969 - val_accuracy: 0.4204\n",
      "Epoch 35/50\n",
      "31/31 [==============================] - 7s 232ms/step - loss: 1.3861 - accuracy: 0.4886 - val_loss: 1.5949 - val_accuracy: 0.4214\n",
      "Epoch 36/50\n",
      "31/31 [==============================] - 7s 231ms/step - loss: 1.3498 - accuracy: 0.4866 - val_loss: 1.6349 - val_accuracy: 0.4083\n",
      "Epoch 37/50\n",
      "31/31 [==============================] - 7s 225ms/step - loss: 1.3119 - accuracy: 0.5248 - val_loss: 1.6190 - val_accuracy: 0.4194\n",
      "Epoch 38/50\n",
      "31/31 [==============================] - 7s 222ms/step - loss: 1.2937 - accuracy: 0.5196 - val_loss: 1.5619 - val_accuracy: 0.4415\n",
      "Epoch 39/50\n",
      "31/31 [==============================] - 7s 222ms/step - loss: 1.2703 - accuracy: 0.5300 - val_loss: 1.5721 - val_accuracy: 0.4234\n",
      "Epoch 40/50\n",
      "31/31 [==============================] - 7s 223ms/step - loss: 1.2795 - accuracy: 0.5279 - val_loss: 1.7067 - val_accuracy: 0.4022\n",
      "Epoch 41/50\n",
      "31/31 [==============================] - 7s 224ms/step - loss: 1.2789 - accuracy: 0.5176 - val_loss: 1.5724 - val_accuracy: 0.4315\n",
      "Epoch 42/50\n",
      "31/31 [==============================] - 7s 229ms/step - loss: 1.2381 - accuracy: 0.5393 - val_loss: 1.5703 - val_accuracy: 0.4435\n",
      "Epoch 43/50\n",
      "31/31 [==============================] - 7s 223ms/step - loss: 1.1931 - accuracy: 0.5382 - val_loss: 1.6415 - val_accuracy: 0.4405\n",
      "Epoch 44/50\n",
      "31/31 [==============================] - 7s 220ms/step - loss: 1.1156 - accuracy: 0.6028 - val_loss: 1.6395 - val_accuracy: 0.4456\n",
      "Epoch 45/50\n",
      "31/31 [==============================] - 7s 224ms/step - loss: 1.1947 - accuracy: 0.5640 - val_loss: 1.6513 - val_accuracy: 0.4234\n",
      "Epoch 46/50\n",
      "31/31 [==============================] - 7s 236ms/step - loss: 1.1750 - accuracy: 0.5817 - val_loss: 1.6177 - val_accuracy: 0.4415\n",
      "Epoch 47/50\n",
      "31/31 [==============================] - 7s 242ms/step - loss: 1.1401 - accuracy: 0.5878 - val_loss: 1.7602 - val_accuracy: 0.4113\n",
      "Epoch 48/50\n",
      "31/31 [==============================] - 7s 240ms/step - loss: 1.1274 - accuracy: 0.5657 - val_loss: 1.7957 - val_accuracy: 0.4254\n",
      "Epoch 49/50\n",
      "31/31 [==============================] - 8s 245ms/step - loss: 1.0924 - accuracy: 0.5938 - val_loss: 1.7346 - val_accuracy: 0.4284\n",
      "Epoch 50/50\n",
      "31/31 [==============================] - 8s 243ms/step - loss: 1.1363 - accuracy: 0.5667 - val_loss: 1.7171 - val_accuracy: 0.4425\n"
     ]
    }
   ],
   "source": [
    "steps_per_epoch = len(train_paths) // batch_size\n",
    "validation_steps = len(test_paths) // batch_size\n",
    "\n",
    "history = model.fit_generator(\n",
    "    train_dataset,\n",
    "    steps_per_epoch=steps_per_epoch,\n",
    "    validation_data=test_dataset,\n",
    "    validation_steps=validation_steps,\n",
    "    epochs=num_epochs\n",
    ")"
   ]
  },
  {
   "cell_type": "markdown",
   "metadata": {},
   "source": [
    "# History 들여다 보기 "
   ]
  },
  {
   "cell_type": "code",
   "execution_count": null,
   "metadata": {},
   "outputs": [],
   "source": []
  }
 ],
 "metadata": {
  "kernelspec": {
   "display_name": "Python 3",
   "language": "python",
   "name": "python3"
  },
  "language_info": {
   "codemirror_mode": {
    "name": "ipython",
    "version": 3
   },
   "file_extension": ".py",
   "mimetype": "text/x-python",
   "name": "python",
   "nbconvert_exporter": "python",
   "pygments_lexer": "ipython3",
   "version": "3.7.3"
  }
 },
 "nbformat": 4,
 "nbformat_minor": 2
}
